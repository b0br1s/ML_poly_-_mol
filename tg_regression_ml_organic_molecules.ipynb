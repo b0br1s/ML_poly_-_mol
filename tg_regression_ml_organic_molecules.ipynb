{
  "cells": [
    {
      "cell_type": "markdown",
      "metadata": {
        "id": "view-in-github",
        "colab_type": "text"
      },
      "source": [
        "<a href=\"https://colab.research.google.com/github/b0br1s/ML_poly_-_mol/blob/main/tg_regression_ml_organic_molecules.ipynb\" target=\"_parent\"><img src=\"https://colab.research.google.com/assets/colab-badge.svg\" alt=\"Open In Colab\"/></a>"
      ]
    },
    {
      "cell_type": "markdown",
      "metadata": {
        "id": "AS6cvEWcdEwj"
      },
      "source": [
        "# Utilizing Deepchem Molecular Models for predicting **Glass transition temperature**\n",
        "\n"
      ]
    },
    {
      "cell_type": "markdown",
      "source": [
        "fusion of the koop, lapichino et borredon DB"
      ],
      "metadata": {
        "id": "POqsjsZbpZM7"
      }
    },
    {
      "cell_type": "markdown",
      "metadata": {
        "id": "KhsscyVWdSGi"
      },
      "source": [
        "## Table of Contents:\n",
        "1. [Introduction](#introduction)\n",
        "2. [Installation and Imports](#install)\n",
        "3. [Data Loading](#dataload)\n",
        "4. [Featurization, Model Training and Evaluation](#modeleval)\n",
        "5. [Summary](#sum)\n",
        "6. [Reference](#ref)"
      ]
    },
    {
      "cell_type": "markdown",
      "metadata": {
        "id": "-Nr3sALP9YMu"
      },
      "source": [
        "## 1. Introduction <a id=\"introduction\"></a>"
      ]
    },
    {
      "cell_type": "markdown",
      "metadata": {
        "id": "YxMI9vV2zqbl"
      },
      "source": []
    },
    {
      "cell_type": "markdown",
      "metadata": {
        "id": "m7FMrmJP-Wuc"
      },
      "source": [
        "## 2. Installation and Imports <a id=\"install\" />"
      ]
    },
    {
      "cell_type": "code",
      "execution_count": null,
      "metadata": {
        "collapsed": true,
        "id": "i-cIAhEy-mol"
      },
      "outputs": [],
      "source": [
        "# Installation for deepchem (compatible for google colab with CUDA 12.1) [Must use with a GPU Instance]\n",
        "%%capture --no-stderr\n",
        "! pip install rdkit deepchem torch_geometric dgllife\n",
        "! pip install -f https://download.pytorch.org/whl/cu118/torch_stable.html torch==2.2.1+cu118\n",
        "! pip install  dgl -f https://data.dgl.ai/wheels/torch-2.2/cu121/repo.html"
      ]
    },
    {
      "cell_type": "code",
      "execution_count": null,
      "metadata": {
        "id": "RfBtvLO_--kg",
        "colab": {
          "base_uri": "https://localhost:8080/"
        },
        "outputId": "8dddf66f-3c86-4eaf-c3cb-481fa163802d"
      },
      "outputs": [
        {
          "output_type": "stream",
          "name": "stderr",
          "text": [
            "WARNING:deepchem.feat.molecule_featurizers.rdkit_descriptors:No normalization for SPS. Feature removed!\n",
            "WARNING:deepchem.feat.molecule_featurizers.rdkit_descriptors:No normalization for AvgIpc. Feature removed!\n",
            "WARNING:tensorflow:From /usr/local/lib/python3.10/dist-packages/tensorflow/python/util/deprecation.py:588: calling function (from tensorflow.python.eager.polymorphic_function.polymorphic_function) with experimental_relax_shapes is deprecated and will be removed in a future version.\n",
            "Instructions for updating:\n",
            "experimental_relax_shapes is deprecated, use reduce_retracing instead\n",
            "DGL backend not selected or invalid.  Assuming PyTorch for now.\n"
          ]
        },
        {
          "output_type": "stream",
          "name": "stdout",
          "text": [
            "Setting the default backend to \"pytorch\". You can change it in the ~/.dgl/config.json file or export the DGLBACKEND environment variable.  Valid options are: pytorch, mxnet, tensorflow (all lowercase)\n"
          ]
        },
        {
          "output_type": "stream",
          "name": "stderr",
          "text": [
            "WARNING:deepchem.models:Skipped loading modules with pytorch-lightning dependency, missing a dependency. No module named 'lightning'\n",
            "WARNING:deepchem.models:Skipped loading some Jax models, missing a dependency. No module named 'haiku'\n"
          ]
        }
      ],
      "source": [
        "# All Imports\n",
        "import pandas as pd\n",
        "import deepchem as dc\n",
        "from deepchem.feat import MolGraphConvFeaturizer\n",
        "import rdkit\n",
        "from rdkit import Chem\n",
        "from rdkit.Chem import Draw\n",
        "from rdkit.Chem.Draw import IPythonConsole\n",
        "import numpy as np\n",
        "from sklearn.model_selection import train_test_split\n",
        "IPythonConsole.ipython_useSVG=True\n",
        "from sklearn.metrics import r2_score\n",
        "from sklearn.metrics import mean_squared_error\n",
        "from sklearn.metrics import mean_absolute_error\n",
        "from sklearn.metrics import mean_absolute_percentage_error"
      ]
    },
    {
      "cell_type": "markdown",
      "metadata": {
        "id": "xcQ0BCNjmVxW"
      },
      "source": [
        "## 3. Data Loading <div id=\"dataload\" />"
      ]
    },
    {
      "cell_type": "markdown",
      "metadata": {
        "id": "VUtMZNS7nIsz"
      },
      "source": [
        "We have collected a dataset of polymer SMILES mapped with their glass transition temperature."
      ]
    },
    {
      "cell_type": "code",
      "source": [
        "from google.colab import drive\n",
        "drive.mount('/content/drive')\n",
        "import os\n",
        "print(os.getcwd())"
      ],
      "metadata": {
        "id": "Y9LPKOdvfZ9b",
        "outputId": "8c388761-634d-4c53-bf75-789475cd519f",
        "colab": {
          "base_uri": "https://localhost:8080/"
        }
      },
      "execution_count": null,
      "outputs": [
        {
          "output_type": "stream",
          "name": "stdout",
          "text": [
            "Mounted at /content/drive\n",
            "/content\n"
          ]
        }
      ]
    },
    {
      "cell_type": "code",
      "execution_count": null,
      "metadata": {
        "id": "ZCBuBmV2dl8X",
        "colab": {
          "base_uri": "https://localhost:8080/"
        },
        "outputId": "39907efb-c2e4-4413-f6f5-2ac7ec293359"
      },
      "outputs": [
        {
          "output_type": "stream",
          "name": "stdout",
          "text": [
            "(830, 2) (104, 2) (104, 2)\n",
            "830 104 104\n"
          ]
        }
      ],
      "source": [
        "df = pd.read_csv(\"/content/drive/MyDrive/data_deepchem/small_molecule_Koop_Borredon_lapichino.csv\")\n",
        "\n",
        "train_df, test_valid_df =train_test_split(df, test_size=0.2, random_state=42)\n",
        "valid_df, test_df = train_test_split(test_valid_df, test_size=0.5, random_state=42)\n",
        "print(train_df.shape, valid_df.shape, test_df.shape)\n",
        "\n",
        "print(train_df.shape[0],test_df.shape[0],valid_df.shape[0])\n",
        "train_df.to_csv('train.csv')\n",
        "valid_df.to_csv('valid.csv')\n",
        "test_df.to_csv('test.csv')"
      ]
    },
    {
      "cell_type": "code",
      "execution_count": null,
      "metadata": {
        "colab": {
          "base_uri": "https://localhost:8080/",
          "height": 217
        },
        "id": "FTGTWuwLh84u",
        "outputId": "2e74e4c9-4741-4ec9-8b2c-0f7f7909a1d7"
      },
      "outputs": [
        {
          "output_type": "execute_result",
          "data": {
            "text/plain": [
              "<PIL.PngImagePlugin.PngImageFile image mode=RGB size=200x200>"
            ],
            "image/png": "[encoded data removed]",
            "image/jpeg": "[encoded data removed]"
          },
          "metadata": {},
          "execution_count": 20
        }
      ],
      "source": [
        "smiles = \"*CC(*)C\"\n",
        "mol = Chem.MolFromSmiles(smiles)\n",
        "Draw.MolToImage(mol, kekulize=False, size=(200, 200))"
      ]
    },
    {
      "cell_type": "markdown",
      "metadata": {
        "id": "nw3Bcw0DmxJ-"
      },
      "source": [
        "## 4. Featurization, Model Training and Evaluation <a id=\"modeleval\" />"
      ]
    },
    {
      "cell_type": "markdown",
      "metadata": {
        "id": "Iz2SgRFfnCKv"
      },
      "source": [
        "With the required dataset loaded, we can proceed to train some models. Deepchem offers various models suitable for regression tasks in a molecular context. We have implemented a featurization mechanism, followed by model training, and recorded the training loss to validate the alignment of the data with the model.\n",
        "\n",
        "The process of training each model is going be of following steps.\n",
        "###### i. Set the featurizer\n",
        "###### ii. Featurize the input values and combine the target to form a dataset / dataloader\n",
        "###### iii. Configure the model\n",
        "###### iv. Fit the model with the dataset / dataloader and record the training loss."
      ]
    },
    {
      "cell_type": "markdown",
      "metadata": {
        "id": "l6uycSLMo6kc"
      },
      "source": [
        "### i. Graph Convolution Neural Network (GCN)\n",
        "\n",
        "Graph Convolutional Neural Networks (GCNs) are particularly effective in molecular modeling, as they can directly operate on the graph structure of molecules. In the context of our study, GCNs can be employed to capture the intricate relationships between atoms and bonds, offering a powerful method for predicting the crystallization tendency of polymers.\n"
      ]
    },
    {
      "cell_type": "code",
      "execution_count": null,
      "metadata": {
        "id": "ImEnoyMgnu00"
      },
      "outputs": [],
      "source": [
        "# setting up the featurizer\n",
        "molgraph_conv_featurizer = MolGraphConvFeaturizer()\n",
        "\n",
        "# featurizing and preparing the dataset\n",
        "X_molgraph_conv_train = molgraph_conv_featurizer.featurize(train_df[\"smiles\"].values)\n",
        "\n",
        "molgraph_conv_train=dc.data.NumpyDataset(X=X_molgraph_conv_train,y=train_df[\"Tg\"].values)\n",
        "\n",
        "X_molgraph_conv_test = molgraph_conv_featurizer.featurize(test_df[\"smiles\"].values)\n",
        "\n",
        "\n",
        "molgraph_conv_test=dc.data.NumpyDataset(X=X_molgraph_conv_test,y=test_df[\"Tg\"].values)\n",
        "\n",
        "X_molgraph_conv_valid = molgraph_conv_featurizer.featurize(valid_df[\"smiles\"].values)\n",
        "\n",
        "\n",
        "molgraph_conv_valid=dc.data.NumpyDataset(X=X_molgraph_conv_valid,y=valid_df[\"Tg\"].values)\n",
        "\n",
        "metric = dc.metrics.Metric(dc.metrics.mean_squared_error)\n",
        "losses_gcn, val_losses_gcn = [], []\n",
        "# initializing the model class\n",
        "GCN_MODEL = dc.models.GCNModel(\n",
        "    mode=\"regression\",\n",
        "    n_tasks=1,\n",
        "    batch_size=17,\n",
        "    learning_rate=0.004,\n",
        ")"
      ]
    },
    {
      "cell_type": "code",
      "execution_count": null,
      "metadata": {
        "id": "IQTSFvp8ozBF"
      },
      "outputs": [],
      "source": [
        "for n in range(49):\n",
        "    l2_loss_GCN = GCN_MODEL.fit(molgraph_conv_train, nb_epoch=1)\n",
        "    losses_gcn.append(l2_loss_GCN)\n",
        "    val_loss_GCN = GCN_MODEL.evaluate(molgraph_conv_valid, [metric])\n",
        "    val_losses_gcn.append(val_loss_GCN)"
      ]
    },
    {
      "cell_type": "code",
      "source": [
        "prediction_GCN = GCN_MODEL.predict_on_batch(X_molgraph_conv_test)\n",
        "for i in range(len(prediction_GCN)):\n",
        "    print(prediction_GCN[i],test_df[\"Tg\"].iloc[i])"
      ],
      "metadata": {
        "id": "Veg9FmvaiDJV",
        "outputId": "08ba1bd1-7d26-4ebc-8b25-a35af51467aa",
        "colab": {
          "base_uri": "https://localhost:8080/"
        }
      },
      "execution_count": null,
      "outputs": [
        {
          "output_type": "stream",
          "name": "stdout",
          "text": [
            "[292.06876] 283.0\n",
            "[312.33588] 298.0\n",
            "[109.056946] 101.35\n",
            "[136.24823] 142.0\n",
            "[130.00374] 107.0\n",
            "[148.59703] 141.0\n",
            "[311.24063] 290.0\n",
            "[340.35767] 358.0\n",
            "[96.66342] 88.0\n",
            "[190.6773] 186.0\n",
            "[102.6586] 85.0\n",
            "[160.80812] 155.0\n",
            "[272.9422] 333.0\n",
            "[197.76134] 193.0\n",
            "[104.553375] 98.0\n",
            "[325.21802] 315.0\n",
            "[350.4274] 343.0\n",
            "[172.55789] 162.8\n",
            "[297.44116] 290.0\n",
            "[287.50436] 269.6\n",
            "[203.11807] 198.0\n",
            "[172.55789] 162.2\n",
            "[366.58505] 358.0\n",
            "[402.41342] 393.0\n",
            "[318.90216] 301.0\n",
            "[120.12387] 125.0\n",
            "[128.09033] 123.0\n",
            "[292.06876] 284.0\n",
            "[193.65091] 184.4\n",
            "[173.49895] 181.4\n",
            "[254.10893] 254.0\n",
            "[170.88899] 126.3\n",
            "[366.58505] 374.0\n",
            "[394.92627] 371.0\n",
            "[375.89484] 364.0\n",
            "[287.50436] 269.6\n",
            "[152.60747] 152.0\n",
            "[301.9783] 284.0\n",
            "[236.01154] 226.0\n",
            "[111.829926] 119.4\n",
            "[308.43042] 319.0\n",
            "[179.58472] 178.0\n",
            "[104.553375] 96.2\n",
            "[444.4876] 433.0\n",
            "[118.103004] 122.0\n",
            "[314.4469] 297.0\n",
            "[285.29544] 277.0\n",
            "[176.61713] 158.0\n",
            "[284.65186] 293.0\n",
            "[402.41342] 393.0\n",
            "[254.10893] 244.0\n",
            "[258.34872] 258.0\n",
            "[137.71909] 129.85\n",
            "[281.72177] 286.0\n",
            "[167.38391] 159.0\n",
            "[420.70374] 360.0\n",
            "[144.80951] 150.4\n",
            "[140.39247] 141.0\n",
            "[374.28052] 387.0\n",
            "[240.10999] 247.0\n",
            "[247.6608] 243.0\n",
            "[375.89484] 370.0\n",
            "[160.71794] 150.0\n",
            "[376.55545] 380.0\n",
            "[157.3805] 158.0\n",
            "[166.72223] 156.7\n",
            "[330.92044] 319.0\n",
            "[99.92076] 98.0\n",
            "[115.942535] 114.0\n",
            "[290.78568] 302.0\n",
            "[311.88626] 309.0\n",
            "[109.353485] 115.0\n",
            "[270.2754] 286.0\n",
            "[301.9783] 284.0\n",
            "[103.079605] 114.7\n",
            "[268.6747] 256.0\n",
            "[104.553375] 96.2\n",
            "[361.60858] 362.0\n",
            "[160.35301] 143.8\n",
            "[217.00252] 218.0\n",
            "[207.23439] 200.7\n",
            "[152.60747] 152.0\n",
            "[120.12387] 124.8\n",
            "[272.9422] 333.0\n",
            "[188.17955] 185.0\n",
            "[160.35301] 158.0\n",
            "[226.2723] 228.3\n",
            "[130.59729] 137.5\n",
            "[348.72256] 320.0\n",
            "[302.6959] 356.0\n",
            "[105.78228] 107.0\n",
            "[366.58505] 367.0\n",
            "[185.32364] 180.8\n",
            "[281.72177] 278.0\n",
            "[431.04193] 410.0\n",
            "[376.55545] 388.0\n",
            "[206.6736] 213.0\n",
            "[156.04372] 146.0\n",
            "[341.48093] 333.0\n",
            "[131.40005] 137.0\n",
            "[297.44116] 284.7\n",
            "[294.22104] 287.0\n",
            "[376.55545] 385.0\n",
            "[226.77501] 224.8\n"
          ]
        }
      ]
    },
    {
      "cell_type": "markdown",
      "metadata": {
        "id": "j7e4IiKja5J4"
      },
      "source": [
        "### ii. Directed Message Passing Neural Network (D-MPNN)"
      ]
    },
    {
      "cell_type": "markdown",
      "metadata": {
        "id": "BK3OkW3Ya5J4"
      },
      "source": [
        "Directed Message Passing Neural Networks (D-MPNNs) offer a sophisticated approach for molecular modeling by explicitly passing messages between atoms to capture the detailed structure of the molecule. In our study, D-MPNNs are used to predict the crystallization tendency of polymers. These networks operate by iteratively updating atom representations based on their neighbors, effectively capturing both local and global structural information. This method allows for precise modeling of the complex interactions within the molecular graph, leading to improved prediction accuracy."
      ]
    },
    {
      "cell_type": "code",
      "execution_count": null,
      "metadata": {
        "id": "T_7DZB4K807E"
      },
      "outputs": [],
      "source": [
        "# setting up the featurizer\n",
        "dmpnn_featurizer = dc.feat.DMPNNFeaturizer()\n",
        "\n",
        "# featurizing and preparing the dataset\n",
        "dmpnn_loader = dc.data.CSVLoader(tasks=['Tg'], feature_field='smiles', featurizer=dmpnn_featurizer)\n",
        "dmpnn_dataset_train = dmpnn_loader.create_dataset(\"train.csv\")\n",
        "dmpnn_dataset_valid = dmpnn_loader.create_dataset(\"valid.csv\")\n",
        "dmpnn_dataset_test = dmpnn_loader.create_dataset(\"test.csv\")\n",
        "\n",
        "metric = dc.metrics.Metric(dc.metrics.mean_squared_error)\n",
        "\n",
        "losses_dmpnn, val_losses_dmpnn = [], []\n",
        "\n",
        "# initializing the model class\n",
        "dmpnn_model = dc.models.torch_models.DMPNNModel(n_tasks=1,batch_size=17)"
      ]
    },
    {
      "cell_type": "code",
      "execution_count": null,
      "metadata": {
        "id": "iEKj_eRL9Nk4"
      },
      "outputs": [],
      "source": [
        "for n in range(49):\n",
        "    dmpnn_loss = dmpnn_model.fit(dmpnn_dataset_train, nb_epoch=1)\n",
        "    losses_dmpnn.append(dmpnn_loss)\n",
        "    dmpnn_val_loss = dmpnn_model.evaluate(dmpnn_dataset_valid, [metric])\n",
        "    val_losses_dmpnn.append(dmpnn_val_loss)"
      ]
    },
    {
      "cell_type": "code",
      "source": [
        "prediction_dmpnn=dmpnn_model.predict(dmpnn_dataset_test)\n",
        "for i in range(len(prediction_dmpnn)):\n",
        "    print(prediction_dmpnn[i], test_df[\"Tg\"].iloc[i])"
      ],
      "metadata": {
        "id": "6MltJy94jQtI",
        "outputId": "d1028b78-3a02-436f-d283-6dd3f4024a1f",
        "colab": {
          "base_uri": "https://localhost:8080/"
        }
      },
      "execution_count": null,
      "outputs": [
        {
          "output_type": "stream",
          "name": "stdout",
          "text": [
            "[282.21106] 283.0\n",
            "[307.0001] 298.0\n",
            "[132.4206] 101.35\n",
            "[151.22546] 142.0\n",
            "[126.82768] 107.0\n",
            "[180.09923] 141.0\n",
            "[285.08188] 290.0\n",
            "[286.73212] 358.0\n",
            "[93.22134] 88.0\n",
            "[191.53247] 186.0\n",
            "[104.87109] 85.0\n",
            "[151.38695] 155.0\n",
            "[287.4619] 333.0\n",
            "[197.21552] 193.0\n",
            "[106.33387] 98.0\n",
            "[306.26462] 315.0\n",
            "[433.03308] 343.0\n",
            "[164.36763] 162.8\n",
            "[307.47894] 290.0\n",
            "[277.97238] 269.6\n",
            "[187.64542] 198.0\n",
            "[164.36763] 162.2\n",
            "[350.7625] 358.0\n",
            "[398.27164] 393.0\n",
            "[340.60266] 301.0\n",
            "[127.497246] 125.0\n",
            "[124.34546] 123.0\n",
            "[282.21106] 284.0\n",
            "[187.02316] 184.4\n",
            "[161.5356] 181.4\n",
            "[248.53073] 254.0\n",
            "[159.10904] 126.3\n",
            "[350.7625] 374.0\n",
            "[373.61813] 371.0\n",
            "[344.42078] 364.0\n",
            "[277.97238] 269.6\n",
            "[151.50485] 152.0\n",
            "[275.77505] 284.0\n",
            "[225.02002] 226.0\n",
            "[111.959724] 119.4\n",
            "[265.53363] 319.0\n",
            "[179.50343] 178.0\n",
            "[106.33387] 96.2\n",
            "[412.09738] 433.0\n",
            "[121.514786] 122.0\n",
            "[290.80316] 297.0\n",
            "[278.95758] 277.0\n",
            "[164.40424] 158.0\n",
            "[322.48788] 293.0\n",
            "[398.2716] 393.0\n",
            "[248.53073] 244.0\n",
            "[255.81349] 258.0\n",
            "[133.92082] 129.85\n",
            "[282.6959] 286.0\n",
            "[152.69308] 159.0\n",
            "[394.49417] 360.0\n",
            "[157.77571] 150.4\n",
            "[153.8914] 141.0\n",
            "[370.337] 387.0\n",
            "[219.60123] 247.0\n",
            "[221.85905] 243.0\n",
            "[344.42078] 370.0\n",
            "[154.30031] 150.0\n",
            "[367.1827] 380.0\n",
            "[149.73363] 158.0\n",
            "[211.11536] 156.7\n",
            "[303.77408] 319.0\n",
            "[105.94618] 98.0\n",
            "[120.590996] 114.0\n",
            "[286.33463] 302.0\n",
            "[311.26605] 309.0\n",
            "[108.597176] 115.0\n",
            "[250.0828] 286.0\n",
            "[275.77505] 284.0\n",
            "[132.29062] 114.7\n",
            "[239.8003] 256.0\n",
            "[106.33387] 96.2\n",
            "[398.35373] 362.0\n",
            "[145.01266] 143.8\n",
            "[240.56384] 218.0\n",
            "[189.87755] 200.7\n",
            "[151.50485] 152.0\n",
            "[127.497246] 124.8\n",
            "[287.46188] 333.0\n",
            "[184.33374] 185.0\n",
            "[145.01266] 158.0\n",
            "[218.5776] 228.3\n",
            "[139.48224] 137.5\n",
            "[320.95227] 320.0\n",
            "[303.9924] 356.0\n",
            "[102.0491] 107.0\n",
            "[350.7625] 367.0\n",
            "[180.8395] 180.8\n",
            "[282.69586] 278.0\n",
            "[408.14062] 410.0\n",
            "[367.1827] 388.0\n",
            "[222.54765] 213.0\n",
            "[145.09702] 146.0\n",
            "[305.99615] 333.0\n",
            "[138.29907] 137.0\n",
            "[307.47894] 284.7\n",
            "[275.7777] 287.0\n",
            "[367.1827] 385.0\n",
            "[276.33517] 224.8\n"
          ]
        }
      ]
    },
    {
      "cell_type": "markdown",
      "metadata": {
        "id": "lasmgLWIa5J5"
      },
      "source": [
        "#### Evaluation Analysis"
      ]
    },
    {
      "cell_type": "code",
      "execution_count": null,
      "metadata": {
        "id": "R7zu7tNVa5J6",
        "outputId": "25a19cf3-3c98-4965-aab1-3b4443625286",
        "colab": {
          "base_uri": "https://localhost:8080/",
          "height": 472
        }
      },
      "outputs": [
        {
          "output_type": "display_data",
          "data": {
            "text/plain": [
              "<Figure size 640x480 with 1 Axes>"
            ],
            "image/png": "[encoded data removed]"
          },
          "metadata": {}
        }
      ],
      "source": [
        "\n",
        "import matplotlib.pyplot as plt\n",
        "import numpy as np\n",
        "\n",
        "fig, ax = plt.subplots()\n",
        "\n",
        "line2 = ax.plot(range(len(losses_gcn)), losses_gcn, label='Training Loss GCN', color='blue', marker='o')\n",
        "line3 = ax.plot(range(len(losses_dmpnn)), losses_dmpnn, label='Training Loss D-MPNN', color='green', marker='o')\n",
        "\n",
        "legend = ax.legend(loc='upper right', shadow=True)\n",
        "\n",
        "plt.xlabel('Epochs')\n",
        "plt.ylabel('Training Loss')\n",
        "plt.title('Training Loss Across Models')\n",
        "plt.grid(True)\n",
        "plt.show()"
      ]
    },
    {
      "cell_type": "code",
      "source": [
        "\n",
        "import matplotlib.pyplot as plt\n",
        "import numpy as np\n",
        "\n",
        "fig, ax = plt.subplots()\n",
        "\n",
        "val_losses_gcn_values = [d['mean_squared_error'] for d in val_losses_gcn]\n",
        "val_losses_dmpnn_values = [d['mean_squared_error'] for d in val_losses_dmpnn]\n",
        "\n",
        "line2 = ax.plot(range(len(val_losses_gcn_values)), val_losses_gcn_values, label='Training Loss GCN', color='blue', marker='o')\n",
        "line3 = ax.plot(range(len(val_losses_dmpnn_values)), val_losses_dmpnn_values, label='Training Loss D-MPNN', color='green', marker='o')\n",
        "\n",
        "legend = ax.legend(loc='upper right', shadow=True)\n",
        "\n",
        "plt.xlabel('Epochs')\n",
        "plt.ylabel('Test Loss')\n",
        "plt.title('Test Loss Across Models')\n",
        "plt.grid(True)\n",
        "plt.show()"
      ],
      "metadata": {
        "id": "It-rF-vSp9WK",
        "outputId": "16d5899f-0688-49c8-97d7-d5259fc66bd1",
        "colab": {
          "base_uri": "https://localhost:8080/",
          "height": 472
        }
      },
      "execution_count": null,
      "outputs": [
        {
          "output_type": "display_data",
          "data": {
            "text/plain": [
              "<Figure size 640x480 with 1 Axes>"
            ],
            "image/png": "[encoded data removed]"
          },
          "metadata": {}
        }
      ]
    },
    {
      "cell_type": "code",
      "execution_count": null,
      "metadata": {
        "id": "P3kTYqZ9a5J6",
        "outputId": "893d2801-e50d-47af-c13f-9cbd44e43e24",
        "colab": {
          "base_uri": "https://localhost:8080/",
          "height": 758
        }
      },
      "outputs": [
        {
          "output_type": "display_data",
          "data": {
            "text/plain": [
              "<Figure size 640x480 with 1 Axes>"
            ],
            "image/png": "[encoded data removed]"
          },
          "metadata": {}
        },
        {
          "output_type": "stream",
          "name": "stdout",
          "text": [
            "\n",
            "R2 SCORE\n",
            "R2 score GCN Tg: 0.9722918992780949\n",
            "R2 score DMPNN Tg: 0.9482144528937787\n",
            "\n",
            "MSE SCORE\n",
            "MSE GCN Tg: 256.3556289308161\n",
            "MSE DMPNN Tg: 479.1204071034209\n",
            "\n",
            "MAE SCORE\n",
            "MAE GCN Tg: 10.943322841937725\n",
            "MAE DMPNN Tg: 14.597248825660118\n",
            "\n",
            "MAPE SCORE\n",
            "MAPE GCN Tg: 0.0504490403840956\n",
            "MAPE DMPNN Tg: 0.06561684666608976\n"
          ]
        }
      ],
      "source": [
        "fig, ax = plt.subplots()\n",
        "\n",
        "line1= ax.plot([0,500],[0,500])\n",
        "# Convert potential masked arrays to 1-D numpy arrays\n",
        "line3 = ax.scatter(np.array(test_df[\"Tg\"]).flatten(), np.array(prediction_GCN).flatten(), label='GCN Tg', color='green', marker='o')\n",
        "line5 = ax.scatter(np.array(test_df[\"Tg\"]).flatten(), np.array(prediction_dmpnn).flatten(), label='dmpnn Tg', color='orange', marker='o')\n",
        "\n",
        "legend = ax.legend(loc='upper center', shadow=True)\n",
        "\n",
        "\n",
        "plt.xlabel('Tm/Tg Exp fom test db')\n",
        "plt.ylabel('ML prediction')\n",
        "plt.title('ML vs Exp (testing set)')\n",
        "plt.grid(True)\n",
        "plt.show()\n",
        "\n",
        "#R2 score, PEARSON\n",
        "r2_GCN_Tg=r2_score(np.array(test_df[\"Tg\"]).flatten(), np.array(prediction_GCN).flatten())\n",
        "r2_dmpnn_Tg=r2_score(np.array(test_df[\"Tg\"]).flatten(), np.array(prediction_dmpnn).flatten())\n",
        "\n",
        "print(\"\\nR2 SCORE\")\n",
        "print(\"R2 score GCN Tg:\",  r2_GCN_Tg)\n",
        "print(\"R2 score DMPNN Tg:\",  r2_dmpnn_Tg)\n",
        "\n",
        "#MSE score\n",
        "mse_GCN_Tg=mean_squared_error(np.array(test_df[\"Tg\"]).flatten(), np.array(prediction_GCN).flatten())\n",
        "mse_dmpnn_Tg=mean_squared_error(np.array(test_df[\"Tg\"]).flatten(), np.array(prediction_dmpnn).flatten())\n",
        "print(\"\\nMSE SCORE\")\n",
        "print(\"MSE GCN Tg:\",  mse_GCN_Tg)\n",
        "print(\"MSE DMPNN Tg:\",  mse_dmpnn_Tg)\n",
        "\n",
        "#MAE score\n",
        "mae_GCN_Tg=mean_absolute_error(np.array(test_df[\"Tg\"]).flatten(), np.array(prediction_GCN).flatten())\n",
        "mae_dmpnn_Tg=mean_absolute_error(np.array(test_df[\"Tg\"]).flatten(), np.array(prediction_dmpnn).flatten())\n",
        "print(\"\\nMAE SCORE\")\n",
        "print(\"MAE GCN Tg:\",  mae_GCN_Tg)\n",
        "print(\"MAE DMPNN Tg:\",  mae_dmpnn_Tg)\n",
        "\n",
        "#MAPE\n",
        "mape_GCN_Tg=mean_absolute_percentage_error(np.array(test_df[\"Tg\"]).flatten(), np.array(prediction_GCN).flatten())\n",
        "mape_dmpnn_Tg=mean_absolute_percentage_error(np.array(test_df[\"Tg\"]).flatten(), np.array(prediction_dmpnn).flatten())\n",
        "\n",
        "print(\"\\nMAPE SCORE\")\n",
        "print(\"MAPE GCN Tg:\",  mape_GCN_Tg)\n",
        "print(\"MAPE DMPNN Tg:\",  mape_dmpnn_Tg)"
      ]
    },
    {
      "cell_type": "markdown",
      "source": [],
      "metadata": {
        "id": "XGzdui63v8uh"
      }
    }
  ],
  "metadata": {
    "accelerator": "GPU",
    "colab": {
      "gpuType": "T4",
      "provenance": [],
      "include_colab_link": true
    },
    "kernelspec": {
      "display_name": "Python 3",
      "name": "python3"
    },
    "language_info": {
      "codemirror_mode": {
        "name": "ipython",
        "version": 3
      },
      "file_extension": ".py",
      "mimetype": "text/x-python",
      "name": "python",
      "nbconvert_exporter": "python",
      "pygments_lexer": "ipython3",
      "version": "3.10.11"
    }
  },
  "nbformat": 4,
  "nbformat_minor": 0
}